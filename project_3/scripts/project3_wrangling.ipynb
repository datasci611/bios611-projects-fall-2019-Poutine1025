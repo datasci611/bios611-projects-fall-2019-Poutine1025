{
 "cells": [
  {
   "cell_type": "code",
   "execution_count": 1,
   "metadata": {},
   "outputs": [],
   "source": [
    "import pandas as pd"
   ]
  },
  {
   "cell_type": "code",
   "execution_count": 71,
   "metadata": {},
   "outputs": [],
   "source": [
    "path=\"https://raw.githubusercontent.com/biodatascience/datasci611/gh-pages/data/project2_2019/\"\n",
    "CLIENT=pd.read_csv(path + \"CLIENT_191102.tsv\", sep=\"\\t\")\n",
    "DISABILITY_ENTRY=pd.read_csv(path + \"DISABILITY_ENTRY_191102.tsv\", sep=\"\\t\")\n",
    "DISABILITY_EXIT=pd.read_csv(path + \"DISABILITY_EXIT_191102.tsv\", sep=\"\\t\")\n",
    "PROVIDER=pd.read_csv(path + \"PROVIDER_191102.tsv\", sep=\"\\t\")"
   ]
  },
  {
   "cell_type": "code",
   "execution_count": 335,
   "metadata": {},
   "outputs": [],
   "source": [
    "NEW_CLIENT=CLIENT[[\"Client ID\",\"Client Age at Entry\",\"Client Gender\",\"Client Primary Race\",\"Client Ethnicity\",\"Client Veteran Status\"]]\n",
    "NEW_CLIENT=NEW_CLIENT.dropna()\n",
    "NEW_CLIENT.columns=[\"ID\",\"Age\",\"Gender\",\"Race\",\"Ethnicity\",\"Veteran\"]\n",
    "NEW_CLIENT=NEW_CLIENT[NEW_CLIENT.Gender.isin([\"Male\",\"Female\"])]"
   ]
  },
  {
   "cell_type": "code",
   "execution_count": 336,
   "metadata": {
    "scrolled": true
   },
   "outputs": [
    {
     "data": {
      "text/html": [
       "<div>\n",
       "<style scoped>\n",
       "    .dataframe tbody tr th:only-of-type {\n",
       "        vertical-align: middle;\n",
       "    }\n",
       "\n",
       "    .dataframe tbody tr th {\n",
       "        vertical-align: top;\n",
       "    }\n",
       "\n",
       "    .dataframe thead th {\n",
       "        text-align: right;\n",
       "    }\n",
       "</style>\n",
       "<table border=\"1\" class=\"dataframe\">\n",
       "  <thead>\n",
       "    <tr style=\"text-align: right;\">\n",
       "      <th></th>\n",
       "      <th>ID</th>\n",
       "      <th>Age</th>\n",
       "      <th>Gender</th>\n",
       "      <th>Race</th>\n",
       "      <th>Ethnicity</th>\n",
       "      <th>Veteran</th>\n",
       "    </tr>\n",
       "  </thead>\n",
       "  <tbody>\n",
       "    <tr>\n",
       "      <td>0</td>\n",
       "      <td>397941</td>\n",
       "      <td>60.0</td>\n",
       "      <td>Female</td>\n",
       "      <td>White (HUD)</td>\n",
       "      <td>Non-Hispanic/Non-Latino (HUD)</td>\n",
       "      <td>No (HUD)</td>\n",
       "    </tr>\n",
       "    <tr>\n",
       "      <td>1</td>\n",
       "      <td>130335</td>\n",
       "      <td>48.0</td>\n",
       "      <td>Female</td>\n",
       "      <td>Black or African American (HUD)</td>\n",
       "      <td>Non-Hispanic/Non-Latino (HUD)</td>\n",
       "      <td>No (HUD)</td>\n",
       "    </tr>\n",
       "    <tr>\n",
       "      <td>2</td>\n",
       "      <td>188933</td>\n",
       "      <td>42.0</td>\n",
       "      <td>Female</td>\n",
       "      <td>Black or African American (HUD)</td>\n",
       "      <td>Non-Hispanic/Non-Latino (HUD)</td>\n",
       "      <td>No (HUD)</td>\n",
       "    </tr>\n",
       "    <tr>\n",
       "      <td>3</td>\n",
       "      <td>168290</td>\n",
       "      <td>57.0</td>\n",
       "      <td>Male</td>\n",
       "      <td>White (HUD)</td>\n",
       "      <td>Hispanic/Latino (HUD)</td>\n",
       "      <td>No (HUD)</td>\n",
       "    </tr>\n",
       "    <tr>\n",
       "      <td>4</td>\n",
       "      <td>123122</td>\n",
       "      <td>51.0</td>\n",
       "      <td>Male</td>\n",
       "      <td>White (HUD)</td>\n",
       "      <td>Non-Hispanic/Non-Latino (HUD)</td>\n",
       "      <td>No (HUD)</td>\n",
       "    </tr>\n",
       "  </tbody>\n",
       "</table>\n",
       "</div>"
      ],
      "text/plain": [
       "       ID   Age  Gender                             Race  \\\n",
       "0  397941  60.0  Female                      White (HUD)   \n",
       "1  130335  48.0  Female  Black or African American (HUD)   \n",
       "2  188933  42.0  Female  Black or African American (HUD)   \n",
       "3  168290  57.0    Male                      White (HUD)   \n",
       "4  123122  51.0    Male                      White (HUD)   \n",
       "\n",
       "                       Ethnicity   Veteran  \n",
       "0  Non-Hispanic/Non-Latino (HUD)  No (HUD)  \n",
       "1  Non-Hispanic/Non-Latino (HUD)  No (HUD)  \n",
       "2  Non-Hispanic/Non-Latino (HUD)  No (HUD)  \n",
       "3          Hispanic/Latino (HUD)  No (HUD)  \n",
       "4  Non-Hispanic/Non-Latino (HUD)  No (HUD)  "
      ]
     },
     "execution_count": 336,
     "metadata": {},
     "output_type": "execute_result"
    }
   ],
   "source": [
    "NEW_CLIENT.head()"
   ]
  },
  {
   "cell_type": "code",
   "execution_count": 337,
   "metadata": {},
   "outputs": [
    {
     "data": {
      "text/plain": [
       "(5269, 6)"
      ]
     },
     "execution_count": 337,
     "metadata": {},
     "output_type": "execute_result"
    }
   ],
   "source": [
    "NEW_CLIENT.shape"
   ]
  },
  {
   "cell_type": "code",
   "execution_count": 338,
   "metadata": {},
   "outputs": [],
   "source": [
    "NEW_CLIENT=pd.DataFrame(NEW_CLIENT.groupby([\"ID\",\"Gender\",\"Race\",\"Ethnicity\",\"Veteran\"]).mean())\n",
    "NEW_CLIENT.reset_index(inplace=True)"
   ]
  },
  {
   "cell_type": "code",
   "execution_count": 340,
   "metadata": {},
   "outputs": [
    {
     "data": {
      "text/html": [
       "<div>\n",
       "<style scoped>\n",
       "    .dataframe tbody tr th:only-of-type {\n",
       "        vertical-align: middle;\n",
       "    }\n",
       "\n",
       "    .dataframe tbody tr th {\n",
       "        vertical-align: top;\n",
       "    }\n",
       "\n",
       "    .dataframe thead th {\n",
       "        text-align: right;\n",
       "    }\n",
       "</style>\n",
       "<table border=\"1\" class=\"dataframe\">\n",
       "  <thead>\n",
       "    <tr style=\"text-align: right;\">\n",
       "      <th></th>\n",
       "      <th>ID</th>\n",
       "      <th>Gender</th>\n",
       "      <th>Race</th>\n",
       "      <th>Ethnicity</th>\n",
       "      <th>Veteran</th>\n",
       "      <th>Age</th>\n",
       "    </tr>\n",
       "  </thead>\n",
       "  <tbody>\n",
       "    <tr>\n",
       "      <td>0</td>\n",
       "      <td>1096</td>\n",
       "      <td>Male</td>\n",
       "      <td>Black or African American (HUD)</td>\n",
       "      <td>Non-Hispanic/Non-Latino (HUD)</td>\n",
       "      <td>Yes (HUD)</td>\n",
       "      <td>60.666667</td>\n",
       "    </tr>\n",
       "    <tr>\n",
       "      <td>1</td>\n",
       "      <td>1097</td>\n",
       "      <td>Male</td>\n",
       "      <td>Black or African American (HUD)</td>\n",
       "      <td>Non-Hispanic/Non-Latino (HUD)</td>\n",
       "      <td>No (HUD)</td>\n",
       "      <td>58.000000</td>\n",
       "    </tr>\n",
       "    <tr>\n",
       "      <td>2</td>\n",
       "      <td>1555</td>\n",
       "      <td>Male</td>\n",
       "      <td>Black or African American (HUD)</td>\n",
       "      <td>Non-Hispanic/Non-Latino (HUD)</td>\n",
       "      <td>No (HUD)</td>\n",
       "      <td>31.000000</td>\n",
       "    </tr>\n",
       "    <tr>\n",
       "      <td>3</td>\n",
       "      <td>1616</td>\n",
       "      <td>Male</td>\n",
       "      <td>Black or African American (HUD)</td>\n",
       "      <td>Non-Hispanic/Non-Latino (HUD)</td>\n",
       "      <td>No (HUD)</td>\n",
       "      <td>43.000000</td>\n",
       "    </tr>\n",
       "    <tr>\n",
       "      <td>4</td>\n",
       "      <td>2024</td>\n",
       "      <td>Male</td>\n",
       "      <td>Black or African American (HUD)</td>\n",
       "      <td>Non-Hispanic/Non-Latino (HUD)</td>\n",
       "      <td>No (HUD)</td>\n",
       "      <td>46.000000</td>\n",
       "    </tr>\n",
       "  </tbody>\n",
       "</table>\n",
       "</div>"
      ],
      "text/plain": [
       "     ID Gender                             Race  \\\n",
       "0  1096   Male  Black or African American (HUD)   \n",
       "1  1097   Male  Black or African American (HUD)   \n",
       "2  1555   Male  Black or African American (HUD)   \n",
       "3  1616   Male  Black or African American (HUD)   \n",
       "4  2024   Male  Black or African American (HUD)   \n",
       "\n",
       "                       Ethnicity    Veteran        Age  \n",
       "0  Non-Hispanic/Non-Latino (HUD)  Yes (HUD)  60.666667  \n",
       "1  Non-Hispanic/Non-Latino (HUD)   No (HUD)  58.000000  \n",
       "2  Non-Hispanic/Non-Latino (HUD)   No (HUD)  31.000000  \n",
       "3  Non-Hispanic/Non-Latino (HUD)   No (HUD)  43.000000  \n",
       "4  Non-Hispanic/Non-Latino (HUD)   No (HUD)  46.000000  "
      ]
     },
     "execution_count": 340,
     "metadata": {},
     "output_type": "execute_result"
    }
   ],
   "source": [
    "NEW_CLIENT.head()"
   ]
  },
  {
   "cell_type": "code",
   "execution_count": 279,
   "metadata": {},
   "outputs": [],
   "source": [
    "NEW_DISABILITY_ENTRY=DISABILITY_ENTRY[[\"Client ID\",\"Disability Type (Entry)\",\"Disability Start Date (Entry)\"]]\n",
    "NEW_DISABILITY_ENTRY=NEW_DISABILITY_ENTRY.dropna()\n",
    "NEW_DISABILITY_ENTRY.columns=[\"ID\",\"DisaType\",\"Date\"]\n",
    "NEW_DISABILITY_ENTRY[\"Month\"]=NEW_DISABILITY_ENTRY[\"Date\"].apply(lambda x: int(x.split(\"/\")[0]))\n",
    "NEW_DISABILITY_ENTRY[\"Day\"]=NEW_DISABILITY_ENTRY[\"Date\"].apply(lambda x: int(x.split(\"/\")[1]))\n",
    "NEW_DISABILITY_ENTRY[\"Year\"]=NEW_DISABILITY_ENTRY[\"Date\"].apply(lambda x: int(x.split(\"/\")[2]))"
   ]
  },
  {
   "cell_type": "code",
   "execution_count": 280,
   "metadata": {},
   "outputs": [],
   "source": [
    "NEW_DISABILITY_ENTRY=NEW_DISABILITY_ENTRY[NEW_DISABILITY_ENTRY.DisaType.isin([\"Alcohol Abuse (HUD)\", \n",
    "                                                                             \"Both Alcohol and Drug Abuse (HUD)\",\n",
    "                                                                             \"Chronic Health Condition (HUD)\",\n",
    "                                                                             \"Developmental (HUD)\",\n",
    "                                                                             \"Drug Abuse (HUD)\",\n",
    "                                                                             \"HIV/AIDS (HUD)\",\n",
    "                                                                             \"Mental Health Problem (HUD)\",\n",
    "                                                                             \"Physical (HUD)\",\n",
    "                                                                             \"Physical/Medical\"])]"
   ]
  },
  {
   "cell_type": "code",
   "execution_count": 281,
   "metadata": {},
   "outputs": [],
   "source": [
    "NEW_DISABILITY_ENTRY=NEW_DISABILITY_ENTRY[NEW_DISABILITY_ENTRY.Year > 2008]"
   ]
  },
  {
   "cell_type": "code",
   "execution_count": 282,
   "metadata": {},
   "outputs": [],
   "source": [
    "NEW_DISABILITY_ENTRY.loc[NEW_DISABILITY_ENTRY.DisaType == 'Alcohol Abuse (HUD)','DisaType'] = 'AA'\n",
    "NEW_DISABILITY_ENTRY.loc[NEW_DISABILITY_ENTRY.DisaType == 'Both Alcohol and Drug Abuse (HUD)','DisaType'] = 'BADA'\n",
    "NEW_DISABILITY_ENTRY.loc[NEW_DISABILITY_ENTRY.DisaType == 'Chronic Health Condition (HUD)','DisaType'] = 'CHC'\n",
    "NEW_DISABILITY_ENTRY.loc[NEW_DISABILITY_ENTRY.DisaType == 'Developmental (HUD)','DisaType'] = 'Dev'\n",
    "NEW_DISABILITY_ENTRY.loc[NEW_DISABILITY_ENTRY.DisaType == 'Drug Abuse (HUD)','DisaType'] = 'DA'\n",
    "NEW_DISABILITY_ENTRY.loc[NEW_DISABILITY_ENTRY.DisaType == 'HIV/AIDS (HUD)','DisaType'] = 'HIV'\n",
    "NEW_DISABILITY_ENTRY.loc[NEW_DISABILITY_ENTRY.DisaType == 'Mental Health Problem (HUD)','DisaType'] = 'MHP'\n",
    "NEW_DISABILITY_ENTRY.loc[NEW_DISABILITY_ENTRY.DisaType == 'Physical (HUD)','DisaType'] = 'Phy'\n",
    "NEW_DISABILITY_ENTRY.loc[NEW_DISABILITY_ENTRY.DisaType == 'Physical/Medical','DisaType'] = 'Phy/Med'"
   ]
  },
  {
   "cell_type": "code",
   "execution_count": 316,
   "metadata": {},
   "outputs": [
    {
     "data": {
      "text/html": [
       "<div>\n",
       "<style scoped>\n",
       "    .dataframe tbody tr th:only-of-type {\n",
       "        vertical-align: middle;\n",
       "    }\n",
       "\n",
       "    .dataframe tbody tr th {\n",
       "        vertical-align: top;\n",
       "    }\n",
       "\n",
       "    .dataframe thead th {\n",
       "        text-align: right;\n",
       "    }\n",
       "</style>\n",
       "<table border=\"1\" class=\"dataframe\">\n",
       "  <thead>\n",
       "    <tr style=\"text-align: right;\">\n",
       "      <th></th>\n",
       "      <th>ID</th>\n",
       "      <th>DisaType</th>\n",
       "      <th>Date</th>\n",
       "      <th>Month</th>\n",
       "      <th>Day</th>\n",
       "      <th>Year</th>\n",
       "    </tr>\n",
       "  </thead>\n",
       "  <tbody>\n",
       "    <tr>\n",
       "      <td>0</td>\n",
       "      <td>397941</td>\n",
       "      <td>AA</td>\n",
       "      <td>4/20/2015</td>\n",
       "      <td>4</td>\n",
       "      <td>20</td>\n",
       "      <td>2015</td>\n",
       "    </tr>\n",
       "    <tr>\n",
       "      <td>1</td>\n",
       "      <td>397941</td>\n",
       "      <td>BADA</td>\n",
       "      <td>4/20/2015</td>\n",
       "      <td>4</td>\n",
       "      <td>20</td>\n",
       "      <td>2015</td>\n",
       "    </tr>\n",
       "    <tr>\n",
       "      <td>2</td>\n",
       "      <td>397941</td>\n",
       "      <td>CHC</td>\n",
       "      <td>4/20/2015</td>\n",
       "      <td>4</td>\n",
       "      <td>20</td>\n",
       "      <td>2015</td>\n",
       "    </tr>\n",
       "    <tr>\n",
       "      <td>3</td>\n",
       "      <td>397941</td>\n",
       "      <td>Dev</td>\n",
       "      <td>4/20/2015</td>\n",
       "      <td>4</td>\n",
       "      <td>20</td>\n",
       "      <td>2015</td>\n",
       "    </tr>\n",
       "    <tr>\n",
       "      <td>4</td>\n",
       "      <td>397941</td>\n",
       "      <td>DA</td>\n",
       "      <td>4/20/2015</td>\n",
       "      <td>4</td>\n",
       "      <td>20</td>\n",
       "      <td>2015</td>\n",
       "    </tr>\n",
       "  </tbody>\n",
       "</table>\n",
       "</div>"
      ],
      "text/plain": [
       "       ID DisaType       Date  Month  Day  Year\n",
       "0  397941       AA  4/20/2015      4   20  2015\n",
       "1  397941     BADA  4/20/2015      4   20  2015\n",
       "2  397941      CHC  4/20/2015      4   20  2015\n",
       "3  397941      Dev  4/20/2015      4   20  2015\n",
       "4  397941       DA  4/20/2015      4   20  2015"
      ]
     },
     "execution_count": 316,
     "metadata": {},
     "output_type": "execute_result"
    }
   ],
   "source": [
    "NEW_DISABILITY_ENTRY.head()"
   ]
  },
  {
   "cell_type": "code",
   "execution_count": 342,
   "metadata": {},
   "outputs": [],
   "source": [
    "NEW_CLIENT.to_csv(\"Client.csv\", index=False)\n",
    "NEW_DISABILITY_ENTRY.to_csv(\"Disability.csv\", index=False)"
   ]
  }
 ],
 "metadata": {
  "kernelspec": {
   "display_name": "Python 3",
   "language": "python",
   "name": "python3"
  },
  "language_info": {
   "codemirror_mode": {
    "name": "ipython",
    "version": 3
   },
   "file_extension": ".py",
   "mimetype": "text/x-python",
   "name": "python",
   "nbconvert_exporter": "python",
   "pygments_lexer": "ipython3",
   "version": "3.7.4"
  }
 },
 "nbformat": 4,
 "nbformat_minor": 2
}
